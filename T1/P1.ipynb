{
 "cells": [
  {
   "cell_type": "code",
   "execution_count": 60,
   "metadata": {},
   "outputs": [],
   "source": [
    "from utils import  multGF28, rand_matrix, time_me\n",
    "import numpy as np\n",
    "from matplotlib import pyplot as plt "
   ]
  },
  {
   "cell_type": "markdown",
   "metadata": {},
   "source": [
    "\n",
    "## Hipotesis:\n",
    "\n",
    "Como equipo planteamos la siguiente hipótesis:\n",
    "\n",
    "<p>\"La opción que se elija afectará considerablemente el rendimiento del algoritmo al momento en que se comience a trabajar con matrices que requieran el uso de memoria secundaria\"</p>\n",
    "<p>Esto debido a la localidad de los accesos, es decir dependiendo de como guarde el disco una matriz la cantidad de accesos a memoria secundaria serán considerablemente mayores. Si el disco guarda las matrices en el disco dejando las filas juntas (idealmente en un bloque), <em>transposed-matrix-mul</em> tendrá un mejor rendimiento ya que tendrá que hacer menos accesos a memoria secundaria en la linea:</p>\n",
    "\n",
    "```\n",
    "for k from 1 to n:\n",
    "    result = result + (A[i][k] * Bt[j][k])\n",
    "    C[i][j] = result\n",
    "```\n",
    "<p>Por otro lado, si guarda las columnas juntas, <em>matrix-mul</em> debería tener un mejor rendimiento al realizar menos accesos a memoria. Esto se daría en la linea de codigo: </p>\n",
    "\n",
    "```\n",
    "for k from 1 to n:\n",
    "    result = result + (A[i][k] * B[k][j])\n",
    "    C[i][j] = result\n",
    "```\n",
    "<p>Esto ya que los elementos <code>B[k][j]</code> deberían estar en el mismo bloque</p>"
   ]
  },
  {
   "cell_type": "code",
   "execution_count": 2,
   "metadata": {},
   "outputs": [],
   "source": [
    "def matrix_mul(A, B):\n",
    "    n = len(A)\n",
    "    C = np.zeros((n,n), dtype = int)\n",
    "    for i in range(n):\n",
    "        for j in range(n):\n",
    "            result = 0\n",
    "            for k in range(n):\n",
    "                result += multGF28(A[i,k],B[k,j])\n",
    "            C[i,j] = result\n",
    "    return C"
   ]
  },
  {
   "cell_type": "code",
   "execution_count": 3,
   "metadata": {},
   "outputs": [],
   "source": [
    "def transposed_matrix_mul(A, B):\n",
    "    n = len(A)\n",
    "    C = np.zeros((n,n), dtype = int)\n",
    "    Bt = np.transpose(B)\n",
    "    for i in range(n):\n",
    "        for j in range(n):\n",
    "            result = 0\n",
    "            for k in range(n):\n",
    "                result += multGF28(A[i,k],Bt[j,k])\n",
    "            C[i,j] = result\n",
    "    return C"
   ]
  },
  {
   "cell_type": "code",
   "execution_count": null,
   "metadata": {},
   "outputs": [
    {
     "name": "stdout",
     "output_type": "stream",
     "text": [
      "8\n",
      "16\n",
      "32\n",
      "64\n",
      "128\n",
      "256\n",
      "512\n"
     ]
    }
   ],
   "source": [
    "# Generemos los valores para el experimento\n",
    "n = [2**i for i in range(3,12)]\n",
    "n_repeat = 2\n",
    "times_m_m = np.zeros(len(n))\n",
    "times_t_m_m = np.zeros(len(n))\n",
    "k = 0\n",
    "for i in n:\n",
    "    print(i)\n",
    "    for j in range(n_repeat):\n",
    "        A = rand_matrix(i)\n",
    "        B = rand_matrix(i)\n",
    "        times_m_m[k] += time_me(matrix_mul, A, B)/n_repeat\n",
    "        times_t_m_m[k] += time_me(transposed_matrix_mul, A, B)/n_repeat\n",
    "    k += 1"
   ]
  },
  {
   "cell_type": "code",
   "execution_count": 70,
   "metadata": {},
   "outputs": [
    {
     "data": {
      "text/plain": [
       "<matplotlib.legend.Legend at 0x1dcf24aeac8>"
      ]
     },
     "execution_count": 70,
     "metadata": {},
     "output_type": "execute_result"
    },
    {
     "data": {
      "image/png": "[encoded data removed]",
      "text/plain": [
       "<Figure size 432x288 with 1 Axes>"
      ]
     },
     "metadata": {
      "needs_background": "light"
     },
     "output_type": "display_data"
    }
   ],
   "source": [
    "plt.title(\"Running times of matrix_mul and transposed_matrix_mul\")\n",
    "plt.xlabel(\"Matrix dimension\")\n",
    "plt.ylabel(\"Running time\")\n",
    "plt.plot(n,times_m_m,\"-b\",label=\"matrix_mul\")\n",
    "plt.plot(n,times_t_m_m,\"-r\",label=\"transposed_matrix_mul\")\n",
    "plt.legend()\n",
    "plt.show()"
   ]
  },
  {
   "cell_type": "code",
   "execution_count": null,
   "metadata": {},
   "outputs": [],
   "source": []
  }
 ],
 "metadata": {
  "kernelspec": {
   "display_name": "Python 3",
   "language": "python",
   "name": "python3"
  },
  "language_info": {
   "codemirror_mode": {
    "name": "ipython",
    "version": 3
   },
   "file_extension": ".py",
   "mimetype": "text/x-python",
   "name": "python",
   "nbconvert_exporter": "python",
   "pygments_lexer": "ipython3",
   "version": "3.7.1"
  }
 },
 "nbformat": 4,
 "nbformat_minor": 4
}
