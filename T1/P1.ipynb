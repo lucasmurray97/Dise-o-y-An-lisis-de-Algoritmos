{
 "cells": [
  {
   "cell_type": "code",
   "execution_count": 1,
   "metadata": {},
   "outputs": [],
   "source": [
    "from utils import  multGF28\n",
    "from random import randrange\n",
    "import numpy as np"
   ]
  },
  {
   "cell_type": "markdown",
   "metadata": {},
   "source": [
    "\n",
    "## Hipotesis:\n",
    "\n",
    "Como equipo planteamos la siguiente hipótesis:\n",
    "\n",
    "<p>\"La opción que se elija afectará considerablemente el rendimiento del algoritmo al momento en que se comience a trabajar con matrices que requieran el uso de memoria secundaria\"</p>\n",
    "<p>Esto debido a la localidad de los accesos, es decir dependiendo de como guarde el disco una matriz la cantidad de accesos a memoria secundaria serán considerablemente mayores. Si el disco guarda las matrices en el disco dejando las filas juntas (idealmente en un bloque), <em>transposed-matrix-mul</em> tendrá un mejor rendimiento ya que tendrá que hacer menos accesos a memoria secundaria en la linea:</p>\n",
    "\n",
    "```\n",
    "for k from 1 to n:\n",
    "    result = result + (A[i][k] * Bt[j][k])\n",
    "    C[i][j] = result\n",
    "```\n",
    "<p>Por otro lado, si guarda las columnas juntas, <em>matrix-mul</em> debería tener un mejor rendimiento al realizar menos accesos a memoria. Esto se daría en la linea de codigo: </p>\n",
    "\n",
    "```\n",
    "for k from 1 to n:\n",
    "    result = result + (A[i][k] * B[k][j])\n",
    "    C[i][j] = result\n",
    "```\n",
    "<p>Esto ya que los elementos <code>B[k][j]</code> deberían estar en el mismo bloque</p>"
   ]
  },
  {
   "cell_type": "code",
   "execution_count": 12,
   "metadata": {},
   "outputs": [],
   "source": [
    "def matrix_mul(A, B):\n",
    "    n = len(A)\n",
    "    C = np.zeros((n,n), dtype = int)\n",
    "    for i in range(n):\n",
    "        for j in range(n):\n",
    "            result = 0\n",
    "            for k in range(n):\n",
    "                result += multGF28(A[i,k],B[k,j])\n",
    "            C[i,j] = result\n",
    "    return C"
   ]
  },
  {
   "cell_type": "code",
   "execution_count": 18,
   "metadata": {},
   "outputs": [],
   "source": [
    "def transposed_matrix_mul(A, B):\n",
    "    n = len(A)\n",
    "    C = np.zeros((n,n), dtype = int)\n",
    "    Bt = np.transpose(B)\n",
    "    for i in range(n):\n",
    "        for j in range(n):\n",
    "            result = 0\n",
    "            for k in range(n):\n",
    "                result += multGF28(A[i,k],Bt[j,k])\n",
    "            C[i,j] = result\n",
    "    return C"
   ]
  },
  {
   "cell_type": "code",
   "execution_count": 19,
   "metadata": {},
   "outputs": [],
   "source": [
    "A = np.zeros((2,2), dtype = int)\n",
    "B = np.zeros((2,2), dtype = int)\n",
    "A[1,1] = 1\n",
    "B[0,0] = 1\n",
    "A[1,0] = 1\n",
    "B[0,1] = 1\n",
    "C = matrix_mul(A,B)\n",
    "D = matrix_mul(A,B)"
   ]
  }
 ],
 "metadata": {
  "kernelspec": {
   "display_name": "Python 3",
   "language": "python",
   "name": "python3"
  },
  "language_info": {
   "codemirror_mode": {
    "name": "ipython",
    "version": 3
   },
   "file_extension": ".py",
   "mimetype": "text/x-python",
   "name": "python",
   "nbconvert_exporter": "python",
   "pygments_lexer": "ipython3",
   "version": "3.7.1"
  }
 },
 "nbformat": 4,
 "nbformat_minor": 4
}
