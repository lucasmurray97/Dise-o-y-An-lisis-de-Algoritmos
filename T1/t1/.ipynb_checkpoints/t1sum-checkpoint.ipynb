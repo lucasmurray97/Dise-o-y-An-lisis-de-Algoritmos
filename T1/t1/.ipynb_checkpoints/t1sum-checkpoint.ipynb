{
 "cells": [
  {
   "cell_type": "code",
   "execution_count": 1,
   "metadata": {
    "id": "dJrmKtDSVZTi"
   },
   "outputs": [],
   "source": [
    "%matplotlib inline\n",
    "from matplotlib import pyplot as plt\n",
    "import numpy as np\n",
    "from random import randrange\n",
    "import time"
   ]
  },
  {
   "cell_type": "markdown",
   "metadata": {
    "id": "5VIcaOibKxpt"
   },
   "source": [
    "a) En cuanto a la incidencia en elegir una de las dos opciones en el tiempo que demora resolver el problema, se plantea la hipótesis de que by_row_sum se demora menos que by_col_sum. Esto es así debido a la forma en la que se almacena la información de las matrices. Suponiendo que se tiene una matriz $A$ de tamaño $A[n, n]$, esta se almacena en la memoria secundaria por filas. Esto significa que, para acceder a una columna, es necesario acceder a la posición de esa columna para cada fila. Sin embargo, para obtener una fila, se accede simplemente a ese espacio de memoria que almacena la fila (en el caso de que una fila $n$ quepa \"entera\" en la memoria caché de espacio $B$, $n \\leq B$. En el caso de que $n>B$, se deberá acceder más de una vez para obtener la fila completa).\n",
    "\n",
    "Por lo tanto, se tiene la hipótesis de que generar una suma por columnas es más lento a que una suma por filas.\n"
   ]
  },
  {
   "cell_type": "markdown",
   "metadata": {
    "id": "ExeBctYZIh_d"
   },
   "source": [
    "b) Formalice su hipótesis en un análisis asintótico de la cantidad de accesos a la memoria externa, en función del tamaño n del input y del tamaño B de una página del caché.\n",
    "\n",
    "Se consideran dos matrices $A, B$ a sumar, ambas de dimensión n, y la suma de ambas, que resulta en una matriz $C$ de la misma dimensión. Como se explicó en la parte anterior, estas se almacenan en memoria secundaria por filas.\n",
    "\n",
    "La cantidad de accesos a memoria, para acceder a una fila, depende de la relación de su tamaño con $B$. Si $n \\leq B$, se accede una vez. En el caso contrario, se accede la cantidad de veces hasta leer toda la fila. Formalmente,\n",
    "\n",
    "$$\n",
    "lecturas por fila = \\lceil \\frac{n}{B} \\rceil\n",
    "$$\n",
    "\n",
    "Por otro lado, para acceder a una columna es necesario acceder a todas las filas para obtener el valor correspondiente a la columna deseada. Es decir,\n",
    "\n",
    "$$\n",
    "lecturas por columna = n\n",
    "$$\n",
    "\n",
    "En el caso de by_row_sum, se debe acceder a cada posición de cada fila en ambas matrices, para generar la suma entre esta misma posición. Es decir, si deseamos sumar por fila de la siguiente forma:\n",
    "\n",
    "$$\n",
    "a_{(n,n)}+b_{(n,n)}=c_{(n,n)}\n",
    "$$\n",
    "\n",
    "se tiene que el costo de acceder a una fila es de $\\lceil \\frac{n}{B} \\rceil $. Por lo tanto, el costo de acceder a todas las filas de ambas matrices y escribirlas en una nueva matriz es de \n",
    "$$\n",
    "costo(byrowsum) = 2 \\cdot n \\cdot \\lceil \\frac{n}{B} \\rceil + \\lceil \\frac{n}{B} \\rceil \\in O(n)\n",
    "$$\n",
    "\n",
    "Por otro lado, en el caso de by_col_sum, cada vez que se quiere acceder a una posición de una columna en específico, es necesario acceder primero a la fila donde se encuentra esta posición. Por lo tanto, el costo para acceder a una columna es de $n$. Esto indica que para acceder a todas las columnas de ambas matrices y escribirlas en una nueva matriz, se tiene\n",
    "$$\n",
    "costo(bycolsum)= 2 \\cdot n \\cdot \\lceil \\frac{n}{B} \\rceil \\cdot n + n \\cdot \\lceil \\frac{n}{B} \\rceil \\in O(n^2 \\cdot \\lceil \\frac{n}{B} \\rceil)\n",
    "$$\n",
    "\n",
    "\n"
   ]
  },
  {
   "cell_type": "code",
   "execution_count": 2,
   "metadata": {
    "id": "13jcRP_K_e0r"
   },
   "outputs": [],
   "source": [
    "# c)\n",
    "def by_row_sum(A, B):\n",
    "  n = len(A)\n",
    "  C = np.zeros((n,n))\n",
    "  for i in range(0,n):\n",
    "    for j in range(0,n):\n",
    "      C[i][j] = A[i][j] + B[i][j]\n",
    "  return C\n",
    "\n",
    "def by_col_sum(A, B):\n",
    "  n = len(A)\n",
    "  C = np.zeros((n,n))\n",
    "  for j in range(0,n):\n",
    "    for i in range(0,n):\n",
    "      C[i][j] = A[i][j] + B[i][j]\n",
    "  return C"
   ]
  },
  {
   "cell_type": "code",
   "execution_count": 3,
   "metadata": {
    "colab": {
     "base_uri": "https://localhost:8080/",
     "height": 1000
    },
    "id": "Fd6vejykYzHs",
    "outputId": "e0ec1f59-43c9-4674-bafd-62aebe8bf9cd"
   },
   "outputs": [
    {
     "name": "stdout",
     "output_type": "stream",
     "text": [
      "3\n",
      "1\n",
      "2\n",
      "3\n",
      "4\n",
      "5\n",
      "6\n",
      "7\n",
      "8\n",
      "9\n",
      "10\n",
      "4\n",
      "1\n",
      "2\n",
      "3\n",
      "4\n",
      "5\n",
      "6\n",
      "7\n",
      "8\n",
      "9\n",
      "10\n",
      "5\n",
      "1\n",
      "2\n",
      "3\n",
      "4\n",
      "5\n",
      "6\n",
      "7\n",
      "8\n",
      "9\n",
      "10\n",
      "6\n",
      "1\n",
      "2\n",
      "3\n",
      "4\n",
      "5\n",
      "6\n",
      "7\n",
      "8\n",
      "9\n",
      "10\n",
      "7\n",
      "1\n",
      "2\n",
      "3\n",
      "4\n",
      "5\n",
      "6\n",
      "7\n",
      "8\n",
      "9\n",
      "10\n",
      "8\n",
      "1\n",
      "2\n",
      "3\n",
      "4\n",
      "5\n",
      "6\n",
      "7\n",
      "8\n",
      "9\n",
      "10\n",
      "9\n",
      "1\n",
      "2\n",
      "3\n",
      "4\n",
      "5\n",
      "6\n",
      "7\n",
      "8\n",
      "9\n",
      "10\n",
      "10\n",
      "1\n",
      "2\n",
      "3\n",
      "4\n",
      "5\n",
      "6\n",
      "7\n",
      "8\n",
      "9\n",
      "10\n",
      "11\n",
      "1\n",
      "2\n",
      "3\n",
      "4\n",
      "5\n",
      "6\n",
      "7\n",
      "8\n",
      "9\n",
      "10\n",
      "12\n",
      "1\n",
      "2\n",
      "3\n",
      "4\n",
      "5\n",
      "6\n",
      "7\n",
      "8\n",
      "9\n",
      "10\n",
      "13\n",
      "1\n",
      "2\n",
      "3\n",
      "4\n",
      "5\n",
      "6\n",
      "7\n",
      "8\n",
      "9\n",
      "10\n",
      "14\n",
      "1\n",
      "2\n",
      "3\n",
      "4\n",
      "5\n",
      "6\n",
      "7\n",
      "8\n",
      "9\n",
      "10\n"
     ]
    },
    {
     "ename": "AttributeError",
     "evalue": "ignored",
     "output_type": "error",
     "traceback": [
      "\u001b[0;31m---------------------------------------------------------------------------\u001b[0m",
      "\u001b[0;31mAttributeError\u001b[0m                            Traceback (most recent call last)",
      "\u001b[0;32m<ipython-input-3-96cf339dce1f>\u001b[0m in \u001b[0;36m<module>\u001b[0;34m()\u001b[0m\n\u001b[1;32m     34\u001b[0m \u001b[0mplt\u001b[0m\u001b[0;34m.\u001b[0m\u001b[0mtitle\u001b[0m\u001b[0;34m(\u001b[0m\u001b[0;34m'matrix-sum'\u001b[0m\u001b[0;34m)\u001b[0m\u001b[0;34m\u001b[0m\u001b[0;34m\u001b[0m\u001b[0m\n\u001b[1;32m     35\u001b[0m \u001b[0mplt\u001b[0m\u001b[0;34m.\u001b[0m\u001b[0mlegend\u001b[0m\u001b[0;34m(\u001b[0m\u001b[0;34m)\u001b[0m\u001b[0;34m\u001b[0m\u001b[0;34m\u001b[0m\u001b[0m\n\u001b[0;32m---> 36\u001b[0;31m \u001b[0mplt\u001b[0m\u001b[0;34m.\u001b[0m\u001b[0msavefile\u001b[0m\u001b[0;34m(\u001b[0m\u001b[0;34m'matrix-sum.jpg'\u001b[0m\u001b[0;34m,\u001b[0m \u001b[0mdpi\u001b[0m\u001b[0;34m=\u001b[0m\u001b[0;36m400\u001b[0m\u001b[0;34m)\u001b[0m\u001b[0;34m\u001b[0m\u001b[0;34m\u001b[0m\u001b[0m\n\u001b[0m\u001b[1;32m     37\u001b[0m \u001b[0mplt\u001b[0m\u001b[0;34m.\u001b[0m\u001b[0mshow\u001b[0m\u001b[0;34m(\u001b[0m\u001b[0;34m)\u001b[0m\u001b[0;34m\u001b[0m\u001b[0;34m\u001b[0m\u001b[0m\n",
      "\u001b[0;31mAttributeError\u001b[0m: module 'matplotlib.pyplot' has no attribute 'savefile'"
     ]
    },
    {
     "data": {
      "image/png": "[encoded data removed]",
      "text/plain": [
       "<Figure size 432x288 with 1 Axes>"
      ]
     },
     "metadata": {
      "needs_background": "light"
     },
     "output_type": "display_data"
    }
   ],
   "source": [
    "suma_tiempos1=0\n",
    "suma_tiempos2=0\n",
    "fun_1_results=[]\n",
    "fun_2_results=[]\n",
    "for i in range(3,15):\n",
    "  print(i)\n",
    "  for j in range(1,11):\n",
    "    print(j)\n",
    "    M1 = np.random.randint(256, size=(2**i,2**i))\n",
    "    M2 = np.random.randint(256, size=(2**i,2**i))\n",
    "    inicial=time.time()\n",
    "    M3 = by_row_sum(M1,M2)\n",
    "    final=time.time()\n",
    "    suma_tiempos1+=(final-inicial)\n",
    "    inicial=time.time()\n",
    "    M3 = by_col_sum(M1,M2)\n",
    "    final=time.time()\n",
    "    suma_tiempos2+=(final-inicial)\n",
    "  promedio1=suma_tiempos1/10\n",
    "  promedio2=suma_tiempos2/10\n",
    "  fun_1_results.append(promedio1)\n",
    "  fun_2_results.append(promedio2)\n",
    "\n",
    "# d)\n",
    "x_values=[]\n",
    "for i in range(3,15):\n",
    "  x_values.append(2**i)\n",
    "\n",
    "fig = plt.figure()\n",
    "plt.xlabel('Tamaño de la matriz')\n",
    "plt.ylabel('Promedio de tiempo para 10 ejecuciones')\n",
    "plt.plot(x_values, fun_1_results, '-', label='by_row_sum')\n",
    "plt.plot(x_values, fun_2_results, '-', label='by_col_sum')\n",
    "plt.title('matrix-sum')\n",
    "plt.legend()\n",
    "plt.savefile('matrix-sum.jpg', dpi=400)\n",
    "plt.show()"
   ]
  },
  {
   "cell_type": "markdown",
   "metadata": {
    "id": "qtTkfSjmGxaA"
   },
   "source": [
    "e) Analice sus resultados y evalúe si su hipótesis se cumplió y a qué se debió el hecho de cumplirse, o no. En particular, si observa diferencias en el comportamiento de las estrategias, intente identificar a partir de qué tamaño de entrada ocurre y por qué sucede.\n",
    "\n",
    "En base a los cálculos hechos en la parte $c$ y los resultados plasmados en la parte $d$, se puede ver que la hipótesis propuesta en la parte $a$ y $b$ se cumple. Esto se ve gráficamente, donde la curva azul indica el tiempo utilizado en la suma por filas. Se puede observar que, aproximadamente, desde el tamaño de matriz $2^{12}$, la suma por columna utiliza más tiempo que la por fila. "
   ]
  }
 ],
 "metadata": {
  "colab": {
   "collapsed_sections": [],
   "name": "p2_t1_logaritmos.ipynb",
   "provenance": []
  },
  "kernelspec": {
   "display_name": "Python 3",
   "language": "python",
   "name": "python3"
  },
  "language_info": {
   "codemirror_mode": {
    "name": "ipython",
    "version": 3
   },
   "file_extension": ".py",
   "mimetype": "text/x-python",
   "name": "python",
   "nbconvert_exporter": "python",
   "pygments_lexer": "ipython3",
   "version": "3.7.1"
  }
 },
 "nbformat": 4,
 "nbformat_minor": 1
}
