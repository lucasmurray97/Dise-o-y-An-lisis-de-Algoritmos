{
  "nbformat": 4,
  "nbformat_minor": 0,
  "metadata": {
    "colab": {
      "name": "T1fold.ipynb",
      "provenance": [],
      "collapsed_sections": []
    },
    "kernelspec": {
      "name": "python3",
      "display_name": "Python 3"
    },
    "language_info": {
      "name": "python"
    }
  },
  "cells": [
    {
      "cell_type": "markdown",
      "source": [
        "**Tarea 1**"
      ],
      "metadata": {
        "id": "ayhiD5WPdUFC"
      }
    },
    {
      "cell_type": "markdown",
      "source": [
        "**a) Formule una hipótesis respecto a las preguntas: ¿Tendrá alguna incidencia elegir una de las\n",
        "dos opciones opciones en el tiempo que demora resolver el problema? ¿Por qué?**\n",
        "\n",
        "Existirá una incidencia en elegir una de las dos opciones en el tiempo de resolución del problema de acuerdo a como se almacenan las matrices en la memoria RAM. Si las matrices se van guardando por filas en la RAM, entonces se guardarán la cantidad de filas que quepan en una página de tamaño B del cache. En caso contrario, se guardarán las columnas de la matriz que quepan en el cache.\n",
        "\n",
        "Se hipotetiza que el programa guardará la matriz por fila, por lo que la operación fold_by_row será más rápida que fold_by_column dado que habran menos cache misses al haber una mejor localidad de referencia a los datos necesitados computar.\n",
        "\n",
        "\n",
        "\n",
        "\n",
        "\n",
        "\n",
        "\n"
      ],
      "metadata": {
        "id": "N5V_Gd8G3oBI"
      }
    },
    {
      "cell_type": "markdown",
      "source": [
        "**b) Formalice su hipótesis en un análisis asintótico de la cantidad de accesos a la memoria externa,\n",
        "en función del tamaño n del input y del tamaño B de una página del caché**\n",
        "\n",
        "  Bajo el supuesto que cada vez que se realiza un cache miss, toda la información de la página del cache es reemplazada, se llego al siguiente análisis.\n",
        "\n",
        "\n",
        "Siendo el tamaño del input $n=n_1*n_1$, con $n$ el orden de la matriz, dado que para fold_by_row existirá mejor localidad de referencia al acceder a los datos de la matriz por fila, existirán únicamente $ceil(n/B)$ cache misses. Esto es debido a que para fold_by_row hay que acceder a todos los datos de las $n_1$ filas, y como en RAM las filas están almacenadas de manera secuencial solo será necesario ver la cantidad de veces que necesito llenar una página del caché de tamaño $B$ con el contenido de $n_1$ filas. Esto se calcula como $n_1/B$ accesos por fila por las $n_1$ filas que hay, lo que queda como $ceil(n_1^2/B)=ceil(n/B)$. Eso resulta en $O(n/B)=O(n)$\n",
        "\n",
        "\n",
        "\n",
        "\n",
        "En el caso de fold_by_column, dado que se accede por columnas y la matriz está guardada por filas en las páginas del caché, para el peor caso se tienen que acceder a caché por cada elemento de la matriz. Esto es considerando que en el peor caso cada vez que se traiga una página a memoria solo voy a tener un elemento de la columna (dado que en una página de tamaño B podria no caber más de una fila) y necesito computar elementos por columna. Por lo que se deben hacer $n_1$ accesos por columna en el peor caso. Esto queda en $O(n)$.\n",
        "\n"
      ],
      "metadata": {
        "id": "d69YTKZ13svZ"
      }
    },
    {
      "cell_type": "markdown",
      "source": [
        "**c) Analice sus resultados y evalúe si su hipótesis se cumplió y a qué se debió el hecho de cumplirse,\n",
        "o no. En particular, si observa diferencias en el comportamiento de las estrategias, intente\n",
        "identificar a partir de qué tamaño de entrada ocurre y por qué sucede.**\n",
        "\n",
        "Se observa a partir de los resultados que ambas estrategias rinden más o menos parecidos hasta el orden 7500 de matrices. Con matrices de mayor orden fold_by_row es significativamente más rápido que fold_by_col. Se puede concluir entonces que desde matrices de orden 7500, los crecimientos de ambas matrices aumentan dado que el tamaño de caché se debe llenar alrededor de ese orden. Por lo que después de ese orden, se requiere más de un acceso a caché para leer el input entero en ambas estrategias. Donde la hipotesis planteada es confirmada dado que fold_by_row tiene un notable menor tiempo de ejecución dado que requiere menos accesos al caché que fold_by_col."
      ],
      "metadata": {
        "id": "cN95FYVIBGh2"
      }
    },
    {
      "cell_type": "code",
      "execution_count": 5,
      "metadata": {
        "id": "w88Qoo8sXTar"
      },
      "outputs": [],
      "source": [
        "from matplotlib import pyplot as plt\n",
        "import numpy as np\n",
        "import time"
      ]
    },
    {
      "cell_type": "code",
      "source": [
        "tamano = []\n",
        "for i in range (2,15):\n",
        "  tamano.append(2**i)\n",
        "\n",
        "print(tamano)\n"
      ],
      "metadata": {
        "id": "rIYzLGH2auH0",
        "colab": {
          "base_uri": "https://localhost:8080/"
        },
        "outputId": "cb17774e-3538-44aa-eb3a-292048467c40"
      },
      "execution_count": 6,
      "outputs": [
        {
          "output_type": "stream",
          "name": "stdout",
          "text": [
            "[4, 8, 16, 32, 64, 128, 256, 512, 1024, 2048, 4096, 8192, 16384]\n"
          ]
        }
      ]
    },
    {
      "cell_type": "code",
      "source": [
        "def length(matrix):\n",
        "  return matrix.shape[0]\n",
        "\n",
        "def by_row_fold(A):\n",
        "  x=0\n",
        "  n = length(A)\n",
        "  for i in range (0,n):\n",
        "    for j in range (0,n):\n",
        "      x = A[i][j] ^ x\n",
        "  return x\n",
        "\n",
        "\n",
        "def by_col_fold(A):\n",
        "  x=0\n",
        "  n = length(A)\n",
        "  for j in range(0,n):\n",
        "    for i in range(0,n):\n",
        "      x = A[i][j] ^ x\n",
        "  return x\n",
        "\n"
      ],
      "metadata": {
        "id": "4RON1ZQShwMy"
      },
      "execution_count": 3,
      "outputs": []
    },
    {
      "cell_type": "code",
      "source": [
        "\n",
        "#para cada tamaño calcular el promedio\n",
        "prom_row=[]\n",
        "prom_col=[]\n",
        "\n",
        "for size in tamano:\n",
        "  for i in range(10):\n",
        "    \n",
        "    \n",
        "    A = np.random.randint(256, size=(size,size))\n",
        "  \n",
        "    start_row=time.time()\n",
        "    by_row_fold(A)\n",
        "    end_row=time.time()\n",
        "    \n",
        "    prom_row.append(end_row-start_row)\n",
        "\n",
        "    start_col=time.time()\n",
        "    by_col_fold(A)\n",
        "    end_col=time.time()\n",
        "\n",
        "    prom_col.append(end_col-start_col)\n",
        "\n",
        "\n",
        "\n",
        "\n"
      ],
      "metadata": {
        "id": "BMPEsmJXnM6u"
      },
      "execution_count": 7,
      "outputs": []
    },
    {
      "cell_type": "code",
      "source": [
        "\n",
        "# Se generan 10 repeticiones por 13 tamaños\n",
        "# 130 promedios, cada 10 es por un tamaño\n",
        "row_fold_means=[]\n",
        "col_fold_means=[]\n",
        "\n",
        "for i in range(0,130,10):\n",
        "  row_fold_means.append(np.mean(prom_row[i:i+10]))\n",
        "  col_fold_means.append(np.mean(prom_col[i:i+10]))\n",
        "\n",
        "print(row_fold_means)\n",
        "print(col_fold_means)\n",
        "\n"
      ],
      "metadata": {
        "colab": {
          "base_uri": "https://localhost:8080/"
        },
        "id": "B-J7xJAym44h",
        "outputId": "af491569-811b-4440-f2cd-e3033960c5e7"
      },
      "execution_count": 9,
      "outputs": [
        {
          "output_type": "stream",
          "name": "stdout",
          "text": [
            "[1.4066696166992188e-05, 2.160072326660156e-05, 7.412433624267578e-05, 0.0002819538116455078, 0.0011514663696289063, 0.004498052597045899, 0.018253278732299805, 0.07536675930023193, 0.2996448755264282, 1.220802617073059, 4.8774944067001345, 19.534650802612305, 78.76967072486877]\n",
            "[6.890296936035156e-06, 2.2721290588378906e-05, 7.367134094238281e-05, 0.0002911090850830078, 0.0011046648025512696, 0.004448199272155761, 0.01925382614135742, 0.08734076023101807, 0.33662497997283936, 1.555008625984192, 6.993274736404419, 28.042642760276795, 128.99349071979523]\n"
          ]
        }
      ]
    },
    {
      "cell_type": "code",
      "source": [
        "\n",
        "x_values=tamano\n",
        "fun_1_results=row_fold_means\n",
        "fun_2_results=col_fold_means\n",
        "x_label_name=\"Tamaño input\"\n",
        "y_label_name=\"Promedio de ejecución\"\n",
        "fun_1_label=\"row_fold\"\n",
        "fun_2_label=\"col_fold\"\n",
        "chart_title=\"Tiempo de ejecución promedio en fold_row y fold_col\"\n",
        "\n",
        "fig = plt.figure()\n",
        "plt.xlabel(x_label_name)\n",
        "plt.ylabel(y_label_name)\n",
        "plt.plot(x_values, fun_1_results, '-', label=fun_1_label)\n",
        "plt.plot(x_values, fun_2_results, '-', label=fun_2_label)\n",
        "plt.title(chart_title)\n",
        "plt.legend()\n",
        "plt.show()"
      ],
      "metadata": {
        "colab": {
          "base_uri": "https://localhost:8080/",
          "height": 295
        },
        "id": "nEdOZObBy52d",
        "outputId": "614b33f0-3d9e-4486-b99f-1c88acf9acff"
      },
      "execution_count": 10,
      "outputs": [
        {
          "output_type": "display_data",
          "data": {
            "text/plain": [
              "<Figure size 432x288 with 1 Axes>"
            ],
            "image/png": "[encoded data removed]"
          },
          "metadata": {
            "needs_background": "light"
          }
        }
      ]
    },
    {
      "cell_type": "code",
      "source": [
        ""
      ],
      "metadata": {
        "id": "eqtj2y8o_zxf"
      },
      "execution_count": null,
      "outputs": []
    }
  ]
}