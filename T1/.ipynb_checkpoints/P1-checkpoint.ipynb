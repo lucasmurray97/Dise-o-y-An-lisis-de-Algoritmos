{
 "cells": [
  {
   "cell_type": "code",
   "execution_count": 1,
   "metadata": {},
   "outputs": [],
   "source": [
    "from utils import  multGF28, rand_matrix, time_me\n",
    "import numpy as np\n",
    "from matplotlib import pyplot as plt "
   ]
  },
  {
   "cell_type": "markdown",
   "metadata": {},
   "source": [
    "## a) Hipotesis:\n",
    "\n",
    "Como equipo planteamos la siguiente hipótesis:\n",
    "\n",
    "<p>\"La opción que se elija afectará considerablemente el rendimiento del algoritmo al momento en que se comience a trabajar con matrices que requieran el uso de memoria secundaria\"</p>\n",
    "<p>Esto debido a la localidad de los accesos, es decir dependiendo de como guarde el disco una matriz la cantidad de accesos a memoria secundaria serán considerablemente mayores. Si el disco guarda las matrices en el disco dejando las filas juntas (idealmente en un bloque), <em>transposed-matrix-mul</em> tendrá un mejor rendimiento ya que tendrá que hacer menos accesos a memoria secundaria en la linea:</p>\n",
    "\n",
    "```\n",
    "for k from 1 to n:\n",
    "    result = result + (A[i][k] * Bt[j][k])\n",
    "    C[i][j] = result\n",
    "```\n",
    "<p>Por otro lado, si guarda las columnas juntas, <em>matrix-mul</em> debería tener un mejor rendimiento al realizar menos accesos a memoria. Esto se daría en la linea de codigo: </p>\n",
    "\n",
    "```\n",
    "for k from 1 to n:\n",
    "    result = result + (A[i][k] * B[k][j])\n",
    "    C[i][j] = result\n",
    "```\n",
    "<p>Esto ya que los elementos <code>B[k][j]</code> deberían estar en el mismo bloque</p>"
   ]
  },
  {
   "cell_type": "markdown",
   "metadata": {},
   "source": [
    "## b) Formalización:\n",
    "\n",
    "<p> Supondremos que las matrices se almacenan en memoria RAM en su totalidad, y este almacenamiento se hace por filas en $n^2$ posiciones consecutivas. A su vez, cada elemento de la matriz ocupará un byte de memoria. Luego, una matriz en su totalidad ocupa $n^2$ bytes. Se procederá a calcular el costo asintótico para la operacion <em>matrix-mul</em> y luego el de <em>transposed-matrix-mul</em>.</p> \n",
    "\n",
    "### <em>matrix-mul:</em>\n",
    "<p>Sean las matrices A y B a multiplicar. Al ser las filas de tamaño n, tendremos que la cantidad de lecturas que se necesitan para leer una fila completa en el peor caso (es decir, que no esté en el caché) es:</p>\n",
    "\n",
    "$$ \\frac{lecturas}{fila} = \\lceil \\frac{n}{B} \\rceil$$\n",
    "\n",
    "<p>Es decir, si $n \\leq B$ entonces necesitaremos una única lectura. Por otro lado, si por ejemplo $\\frac{n}{B} = 1,5$, entonces serán necesarias dos lecturas.</p>\n",
    "\n",
    "<p>Ahora, como las matrices están almacenadas consecutivamente por filas, para cada columna en el caso de que esta no se encuentre en el caché, se van a requerir n lecturas en el peor caso:</p>\n",
    "\n",
    "$$ \\frac{lecturas}{columna} = n$$\n",
    "\n",
    "<p>Sea la matriz $C = A*B$. Para determinar cada componente $c_{i,j}$ de $C$, necesitamos acceso a $a_{i.}$ y $b_{.j}$, de manera que:</p>\n",
    "\n",
    "$$ c_{i,j} = a_{i.}^{'}b_{.j}$$\n",
    "\n",
    "<p>Sin embargo, habiendo leido $a_{i.}$ esta estará en el caché y la podemos ocupar para computar la fila completa $c_{i.}$ sin el costo asociado a esa fila:</p>\n",
    "\n",
    "$$ c_{i, j} = a_{i.}^{'}b_{.j}, \\forall j \\in {1,...,n}$$\n",
    "\n",
    "<p>Luego, determinar una fila de $C$ nos cuesta en el peor caso:</p>\n",
    "\n",
    "$$ CostoFila = costoLecturaFila + n*costoLecturaColumna = \\lceil \\frac{n}{B} \\rceil + n*n = n^2 + \\lceil \\frac{n}{B} \\rceil $$\n",
    "\n",
    "<p>Finalmente, sumando sobre todas las filas:</p>\n",
    "\n",
    "$$ CostoMatrixMul= n \\left( n^2 + \\lceil \\frac{n}{B} \\rceil \\right) = n^3 + \\lceil \\frac{n}{B} \\rceil \\in O(n^3)$$\n",
    "\n",
    "### <em>transposed-matrix-mul:</em>\n",
    "\n",
    "<p>Sean las matrices A y B a multiplicar. Al ser las filas de tamaño n, tendremos que la cantidad de lecturas que se necesitan para leer una fila completa en caso de que no esté en caché, en el peor caso es:</p>\n",
    "\n",
    "$$ \\frac{lecturas}{fila} = \\lceil \\frac{n}{B} \\rceil$$\n",
    "\n",
    "<p>Por otro lado, notando que leer una columna de $B$, equivale a leer una fila de $B^{'}$, obtenemos que la cantidad de lecturas para leer una columna completa, en caso de que no esté en el caché, en el peor caso es: </p>\n",
    "\n",
    "$$ \\frac{lecturas}{fila} = \\lceil \\frac{n}{B} \\rceil$$\n",
    "\n",
    "<p>Repitiendo el análisis anterior, habiendo leido $a_{i.}$ la ocupamos para determinar $c_{i.}$ completa. Luego en el peor caso las n columnas no estarán en el cache y la deberemos todas las $\\left\\{b_{.j}\\right\\}_{j=1}^{n}$. Esto equivale a leer las n filas de $B^{'}$, $\\left\\{b_{i.}^{'}\\right\\}_{i=1}^{n}$. Por lo tanto, determinar una fila de $C$ nos cuesta en el peor caso:</p>\n",
    "\n",
    "$$ CostoFila = costoLecturaFila + n*costoLecturaColumna = \\lceil \\frac{n}{B} \\rceil + n*\\lceil \\frac{n}{B} \\rceil$$\n",
    "\n",
    "<p>Finalmente, sumando sobre todas las filas de $C$:</p>\n",
    "\n",
    "$$ CostoTransposedMatrixMul= n \\left( n* \\lceil \\frac{n}{B} \\rceil + \\lceil \\frac{n}{B} \\rceil \\right) = n^2*\\lceil \\frac{n}{B} \\rceil + n*\\lceil \\frac{n}{B} \\rceil \\in O(n^2*\\lceil \\frac{n}{B} \\rceil)$$\n",
    "\n",
    "<p>Para concluir, vemos que $O(n^2*\\lceil \\frac{n}{B} \\rceil)<O(n^3)$, por tanto el costo <em>matrix-mul</em> deberá ser menor que el de <em>transposed-matrix-mul</em> </p>"
   ]
  },
  {
   "cell_type": "markdown",
   "metadata": {},
   "source": [
    "## c) Implementación"
   ]
  },
  {
   "cell_type": "code",
   "execution_count": 17,
   "metadata": {},
   "outputs": [],
   "source": [
    "# Generamos una matriz de (256x256), que contendrá todos los posibles valores de multiplicaciones entre elementos de GF(2^8)\n",
    "mult_gf_matrix = np.zeros((256,256))\n",
    "for j in range(256):\n",
    "    for i in range(256):\n",
    "        mult_gf_matrix[i,j] =  multGF28(i,j)"
   ]
  },
  {
   "cell_type": "code",
   "execution_count": 18,
   "metadata": {},
   "outputs": [],
   "source": [
    "def matrix_mul(A, B, mult_gf_matrix):\n",
    "    n = len(A)\n",
    "    C = np.zeros((n,n), dtype = int)\n",
    "    for i in range(n):\n",
    "#         print(i)\n",
    "        for j in range(n):\n",
    "            result = 0\n",
    "            for k in range(n):\n",
    "                result += mult_gf_matrix[A[i,k],B[k,j]] \n",
    "            C[i,j] = result\n",
    "    return C"
   ]
  },
  {
   "cell_type": "code",
   "execution_count": 19,
   "metadata": {},
   "outputs": [],
   "source": [
    "def transposed_matrix_mul(A, B, mult_gf_matrix):\n",
    "    n = len(A)\n",
    "    C = np.zeros((n,n), dtype = int)\n",
    "    Bt = np.transpose(B)\n",
    "    for i in range(n):\n",
    "#         print(i)\n",
    "        for j in range(n):\n",
    "            result = 0\n",
    "            for k in range(n):\n",
    "                result += mult_gf_matrix[A[i,k],Bt[k,j]] \n",
    "            C[i,j] = result\n",
    "    return C"
   ]
  },
  {
   "cell_type": "code",
   "execution_count": 41,
   "metadata": {},
   "outputs": [],
   "source": [
    "# Generemos los valores para el experimento\n",
    "n = [2**i for i in range(3, 12)]\n",
    "n_repeat = 2\n",
    "times_m_m = np.zeros(len(n))\n",
    "times_t_m_m = np.zeros(len(n))\n",
    "k = 0\n",
    "for i in n:\n",
    "    for j in range(n_repeat):\n",
    "        A = rand_matrix(i)\n",
    "        B = rand_matrix(i)\n",
    "        times_m_m[k] += time_me(matrix_mul, A, B, mult_gf_matrix)/n_repeat\n",
    "        times_t_m_m[k] += time_me(transposed_matrix_mul, A, B, mult_gf_matrix)/n_repeat\n",
    "    k += 1"
   ]
  },
  {
   "cell_type": "markdown",
   "metadata": {},
   "source": [
    "## d) Resultados"
   ]
  },
  {
   "cell_type": "code",
   "execution_count": 42,
   "metadata": {},
   "outputs": [
    {
     "data": {
      "image/png": "[encoded data removed]",
      "text/plain": [
       "<Figure size 432x288 with 1 Axes>"
      ]
     },
     "metadata": {
      "needs_background": "light"
     },
     "output_type": "display_data"
    }
   ],
   "source": [
    "plt.title(\"Running times of matrix_mul v/s transposed_matrix_mul\")\n",
    "plt.xlabel(\"Matrix dimension\")\n",
    "plt.ylabel(\"Running time\")\n",
    "plt.plot(n,times_m_m,\"-b\",label=\"matrix_mul\")\n",
    "plt.plot(n,times_t_m_m,\"-r\",label=\"transposed_matrix_mul\")\n",
    "plt.legend()\n",
    "plt.show()"
   ]
  },
  {
   "cell_type": "markdown",
   "metadata": {},
   "source": [
    "## e) Análisis y conclusión"
   ]
  },
  {
   "cell_type": "markdown",
   "metadata": {},
   "source": [
    "<p>Revisando lo obtenido en la parte d), el costo de ambas operaciones es similar, hasta $n = 2^{11}$, desde donde <em>transposed-matrix-mult</em> comienza a tener un costo mayor.</p>\n",
    "\n",
    "<p> Esto respalda nuestra hipótesis, la cual establecía que el costo de <em>transposed-matrix-mult</em> sería menor al de <em>matrix-mult</em>. Esto ocurre porque desde cierto n, las matrices no se podrán almacenar en su totalidad en el caché y por tanto se empiezan a realizar accesos a RAM debido a caché misses, los cuales son costosos y como se demostró <em>transposed-matrix-mult</em> realiza menos accesos que <em>matrix-mult</em> en el peor caso.</p>"
   ]
  }
 ],
 "metadata": {
  "kernelspec": {
   "display_name": "Python 3",
   "language": "python",
   "name": "python3"
  },
  "language_info": {
   "codemirror_mode": {
    "name": "ipython",
    "version": 3
   },
   "file_extension": ".py",
   "mimetype": "text/x-python",
   "name": "python",
   "nbconvert_exporter": "python",
   "pygments_lexer": "ipython3",
   "version": "3.7.1"
  }
 },
 "nbformat": 4,
 "nbformat_minor": 4
}
