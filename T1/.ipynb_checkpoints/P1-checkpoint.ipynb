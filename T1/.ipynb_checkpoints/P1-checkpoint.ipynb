{
 "cells": [
  {
   "cell_type": "code",
   "execution_count": 1,
   "metadata": {},
   "outputs": [],
   "source": [
    "from utils import  multGF28, rand_matrix, time_me\n",
    "import numpy as np"
   ]
  },
  {
   "cell_type": "markdown",
   "metadata": {},
   "source": [
    "\n",
    "## Hipotesis:\n",
    "\n",
    "Como equipo planteamos la siguiente hipótesis:\n",
    "\n",
    "<p>\"La opción que se elija afectará considerablemente el rendimiento del algoritmo al momento en que se comience a trabajar con matrices que requieran el uso de memoria secundaria\"</p>\n",
    "<p>Esto debido a la localidad de los accesos, es decir dependiendo de como guarde el disco una matriz la cantidad de accesos a memoria secundaria serán considerablemente mayores. Si el disco guarda las matrices en el disco dejando las filas juntas (idealmente en un bloque), <em>transposed-matrix-mul</em> tendrá un mejor rendimiento ya que tendrá que hacer menos accesos a memoria secundaria en la linea:</p>\n",
    "\n",
    "```\n",
    "for k from 1 to n:\n",
    "    result = result + (A[i][k] * Bt[j][k])\n",
    "    C[i][j] = result\n",
    "```\n",
    "<p>Por otro lado, si guarda las columnas juntas, <em>matrix-mul</em> debería tener un mejor rendimiento al realizar menos accesos a memoria. Esto se daría en la linea de codigo: </p>\n",
    "\n",
    "```\n",
    "for k from 1 to n:\n",
    "    result = result + (A[i][k] * B[k][j])\n",
    "    C[i][j] = result\n",
    "```\n",
    "<p>Esto ya que los elementos <code>B[k][j]</code> deberían estar en el mismo bloque</p>"
   ]
  },
  {
   "cell_type": "code",
   "execution_count": 2,
   "metadata": {},
   "outputs": [],
   "source": [
    "def matrix_mul(A, B):\n",
    "    n = len(A)\n",
    "    C = np.zeros((n,n), dtype = int)\n",
    "    for i in range(n):\n",
    "        for j in range(n):\n",
    "            result = 0\n",
    "            for k in range(n):\n",
    "                result += multGF28(A[i,k],B[k,j])\n",
    "            C[i,j] = result\n",
    "    return C"
   ]
  },
  {
   "cell_type": "code",
   "execution_count": 3,
   "metadata": {},
   "outputs": [],
   "source": [
    "def transposed_matrix_mul(A, B):\n",
    "    n = len(A)\n",
    "    C = np.zeros((n,n), dtype = int)\n",
    "    Bt = np.transpose(B)\n",
    "    for i in range(n):\n",
    "        for j in range(n):\n",
    "            result = 0\n",
    "            for k in range(n):\n",
    "                result += multGF28(A[i,k],Bt[j,k])\n",
    "            C[i,j] = result\n",
    "    return C"
   ]
  },
  {
   "cell_type": "code",
   "execution_count": 55,
   "metadata": {},
   "outputs": [
    {
     "ename": "KeyboardInterrupt",
     "evalue": "",
     "output_type": "error",
     "traceback": [
      "\u001b[1;31m---------------------------------------------------------------------------\u001b[0m",
      "\u001b[1;31mKeyboardInterrupt\u001b[0m                         Traceback (most recent call last)",
      "\u001b[1;32m<ipython-input-55-a05e766a0983>\u001b[0m in \u001b[0;36m<module>\u001b[1;34m\u001b[0m\n\u001b[0;32m     10\u001b[0m         \u001b[0mB\u001b[0m \u001b[1;33m=\u001b[0m \u001b[0mrand_matrix\u001b[0m\u001b[1;33m(\u001b[0m\u001b[0mi\u001b[0m\u001b[1;33m)\u001b[0m\u001b[1;33m\u001b[0m\u001b[1;33m\u001b[0m\u001b[0m\n\u001b[0;32m     11\u001b[0m         \u001b[0mtimes_m_m\u001b[0m\u001b[1;33m[\u001b[0m\u001b[0mk\u001b[0m\u001b[1;33m]\u001b[0m \u001b[1;33m+=\u001b[0m \u001b[0mtime_me\u001b[0m\u001b[1;33m(\u001b[0m\u001b[0mmatrix_mul\u001b[0m\u001b[1;33m,\u001b[0m \u001b[0mA\u001b[0m\u001b[1;33m,\u001b[0m \u001b[0mB\u001b[0m\u001b[1;33m)\u001b[0m\u001b[1;33m/\u001b[0m\u001b[0mn_repeat\u001b[0m\u001b[1;33m\u001b[0m\u001b[1;33m\u001b[0m\u001b[0m\n\u001b[1;32m---> 12\u001b[1;33m         \u001b[0mtimes_t_m_m\u001b[0m\u001b[1;33m[\u001b[0m\u001b[0mk\u001b[0m\u001b[1;33m]\u001b[0m \u001b[1;33m+=\u001b[0m \u001b[0mtime_me\u001b[0m\u001b[1;33m(\u001b[0m\u001b[0mtransposed_matrix_mul\u001b[0m\u001b[1;33m,\u001b[0m \u001b[0mA\u001b[0m\u001b[1;33m,\u001b[0m \u001b[0mB\u001b[0m\u001b[1;33m)\u001b[0m\u001b[1;33m/\u001b[0m\u001b[0mn_repeat\u001b[0m\u001b[1;33m\u001b[0m\u001b[1;33m\u001b[0m\u001b[0m\n\u001b[0m\u001b[0;32m     13\u001b[0m     \u001b[0mk\u001b[0m \u001b[1;33m+=\u001b[0m \u001b[1;36m1\u001b[0m\u001b[1;33m\u001b[0m\u001b[1;33m\u001b[0m\u001b[0m\n",
      "\u001b[1;32m~\\Desktop\\Universidad\\Semestres\\13vo Semestre\\logaritmos\\Tareas\\T1\\utils.py\u001b[0m in \u001b[0;36mtime_me\u001b[1;34m(f, *args)\u001b[0m\n\u001b[0;32m     21\u001b[0m   \u001b[1;34m\"\"\"Mide el tiempo de ejecución de `f` con los argumentos `*args`.\"\"\"\u001b[0m\u001b[1;33m\u001b[0m\u001b[1;33m\u001b[0m\u001b[0m\n\u001b[0;32m     22\u001b[0m   \u001b[0mstart\u001b[0m \u001b[1;33m=\u001b[0m \u001b[0mtime\u001b[0m\u001b[1;33m.\u001b[0m\u001b[0mperf_counter\u001b[0m\u001b[1;33m(\u001b[0m\u001b[1;33m)\u001b[0m\u001b[1;33m\u001b[0m\u001b[1;33m\u001b[0m\u001b[0m\n\u001b[1;32m---> 23\u001b[1;33m   \u001b[0mf\u001b[0m\u001b[1;33m(\u001b[0m\u001b[1;33m*\u001b[0m\u001b[0margs\u001b[0m\u001b[1;33m)\u001b[0m\u001b[1;33m\u001b[0m\u001b[1;33m\u001b[0m\u001b[0m\n\u001b[0m\u001b[0;32m     24\u001b[0m   \u001b[0mend\u001b[0m \u001b[1;33m=\u001b[0m \u001b[0mtime\u001b[0m\u001b[1;33m.\u001b[0m\u001b[0mperf_counter\u001b[0m\u001b[1;33m(\u001b[0m\u001b[1;33m)\u001b[0m\u001b[1;33m\u001b[0m\u001b[1;33m\u001b[0m\u001b[0m\n\u001b[0;32m     25\u001b[0m   \u001b[1;32mreturn\u001b[0m \u001b[0mend\u001b[0m \u001b[1;33m-\u001b[0m \u001b[0mstart\u001b[0m\u001b[1;33m\u001b[0m\u001b[1;33m\u001b[0m\u001b[0m\n",
      "\u001b[1;32m<ipython-input-3-40a09158baf1>\u001b[0m in \u001b[0;36mtransposed_matrix_mul\u001b[1;34m(A, B)\u001b[0m\n\u001b[0;32m      7\u001b[0m             \u001b[0mresult\u001b[0m \u001b[1;33m=\u001b[0m \u001b[1;36m0\u001b[0m\u001b[1;33m\u001b[0m\u001b[1;33m\u001b[0m\u001b[0m\n\u001b[0;32m      8\u001b[0m             \u001b[1;32mfor\u001b[0m \u001b[0mk\u001b[0m \u001b[1;32min\u001b[0m \u001b[0mrange\u001b[0m\u001b[1;33m(\u001b[0m\u001b[0mn\u001b[0m\u001b[1;33m)\u001b[0m\u001b[1;33m:\u001b[0m\u001b[1;33m\u001b[0m\u001b[1;33m\u001b[0m\u001b[0m\n\u001b[1;32m----> 9\u001b[1;33m                 \u001b[0mresult\u001b[0m \u001b[1;33m+=\u001b[0m \u001b[0mmultGF28\u001b[0m\u001b[1;33m(\u001b[0m\u001b[0mA\u001b[0m\u001b[1;33m[\u001b[0m\u001b[0mi\u001b[0m\u001b[1;33m,\u001b[0m\u001b[0mk\u001b[0m\u001b[1;33m]\u001b[0m\u001b[1;33m,\u001b[0m\u001b[0mBt\u001b[0m\u001b[1;33m[\u001b[0m\u001b[0mj\u001b[0m\u001b[1;33m,\u001b[0m\u001b[0mk\u001b[0m\u001b[1;33m]\u001b[0m\u001b[1;33m)\u001b[0m\u001b[1;33m\u001b[0m\u001b[1;33m\u001b[0m\u001b[0m\n\u001b[0m\u001b[0;32m     10\u001b[0m             \u001b[0mC\u001b[0m\u001b[1;33m[\u001b[0m\u001b[0mi\u001b[0m\u001b[1;33m,\u001b[0m\u001b[0mj\u001b[0m\u001b[1;33m]\u001b[0m \u001b[1;33m=\u001b[0m \u001b[0mresult\u001b[0m\u001b[1;33m\u001b[0m\u001b[1;33m\u001b[0m\u001b[0m\n\u001b[0;32m     11\u001b[0m     \u001b[1;32mreturn\u001b[0m \u001b[0mC\u001b[0m\u001b[1;33m\u001b[0m\u001b[1;33m\u001b[0m\u001b[0m\n",
      "\u001b[1;32m~\\Desktop\\Universidad\\Semestres\\13vo Semestre\\logaritmos\\Tareas\\T1\\utils.py\u001b[0m in \u001b[0;36mmultGF28\u001b[1;34m(p1, p2)\u001b[0m\n\u001b[0;32m      8\u001b[0m             \u001b[0mp\u001b[0m \u001b[1;33m^=\u001b[0m \u001b[0mp1\u001b[0m\u001b[1;33m\u001b[0m\u001b[1;33m\u001b[0m\u001b[0m\n\u001b[0;32m      9\u001b[0m         \u001b[0mp1\u001b[0m \u001b[1;33m<<=\u001b[0m \u001b[1;36m1\u001b[0m\u001b[1;33m\u001b[0m\u001b[1;33m\u001b[0m\u001b[0m\n\u001b[1;32m---> 10\u001b[1;33m         \u001b[1;32mif\u001b[0m \u001b[0mp1\u001b[0m \u001b[1;33m&\u001b[0m \u001b[1;36m0b100000000\u001b[0m\u001b[1;33m:\u001b[0m\u001b[1;33m\u001b[0m\u001b[1;33m\u001b[0m\u001b[0m\n\u001b[0m\u001b[0;32m     11\u001b[0m             \u001b[0mp1\u001b[0m \u001b[1;33m^=\u001b[0m \u001b[1;36m0b100011011\u001b[0m\u001b[1;33m\u001b[0m\u001b[1;33m\u001b[0m\u001b[0m\n\u001b[0;32m     12\u001b[0m         \u001b[0mp2\u001b[0m \u001b[1;33m>>=\u001b[0m \u001b[1;36m1\u001b[0m\u001b[1;33m\u001b[0m\u001b[1;33m\u001b[0m\u001b[0m\n",
      "\u001b[1;31mKeyboardInterrupt\u001b[0m: "
     ]
    }
   ],
   "source": [
    "# Generemos los valores para el experimento\n",
    "n = [2**i for i in range(3,8)]\n",
    "n_repeat = 10\n",
    "times_m_m = np.zeros(len(n))\n",
    "times_t_m_m = np.zeros(len(n))\n",
    "k = 0\n",
    "for i in n:\n",
    "    print(i)\n",
    "    for j in range(n_repeat):\n",
    "        A = rand_matrix(i)\n",
    "        B = rand_matrix(i)\n",
    "        times_m_m[k] += time_me(matrix_mul, A, B)/n_repeat\n",
    "        times_t_m_m[k] += time_me(transposed_matrix_mul, A, B)/n_repeat\n",
    "    k += 1"
   ]
  },
  {
   "cell_type": "code",
   "execution_count": null,
   "metadata": {},
   "outputs": [],
   "source": [
    " times_t_m_m"
   ]
  }
 ],
 "metadata": {
  "kernelspec": {
   "display_name": "Python 3",
   "language": "python",
   "name": "python3"
  },
  "language_info": {
   "codemirror_mode": {
    "name": "ipython",
    "version": 3
   },
   "file_extension": ".py",
   "mimetype": "text/x-python",
   "name": "python",
   "nbconvert_exporter": "python",
   "pygments_lexer": "ipython3",
   "version": "3.7.1"
  }
 },
 "nbformat": 4,
 "nbformat_minor": 4
}
